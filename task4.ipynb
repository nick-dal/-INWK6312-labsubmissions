{
 "cells": [
  {
   "cell_type": "code",
   "execution_count": 1,
   "id": "b79c1f75",
   "metadata": {},
   "outputs": [
    {
     "name": "stdout",
     "output_type": "stream",
     "text": [
      "<class 'str'>\n"
     ]
    }
   ],
   "source": [
    "from netmiko import Netmiko\n",
    "device = {\"device_type\": \"cisco_ios\",\n",
    " \"ip\": \"192.168.1.105\",\n",
    " \"username\": \"student\",\n",
    " \"password\": \"Meilab123\",\n",
    " \"port\": \"22\"}\n",
    "net_connect = Netmiko(**device)\n",
    "output = net_connect.send_command(\"show ip interface brief\")\n",
    "net_connect.disconnect()\n",
    "print(type(output))"
   ]
  },
  {
   "cell_type": "code",
   "execution_count": 2,
   "id": "d0ed826c",
   "metadata": {},
   "outputs": [
    {
     "name": "stdout",
     "output_type": "stream",
     "text": [
      "<class 'list'>\n",
      "GigabitEthernet1\n",
      "GigabitEthernet2\n",
      "GigabitEthernet3\n"
     ]
    }
   ],
   "source": [
    "from netmiko import Netmiko\n",
    "device = {\"device_type\": \"cisco_ios\",\n",
    " \"ip\": \"192.168.1.105\",\n",
    " \"username\": \"student\",\n",
    " \"password\": \"Meilab123\",\n",
    " \"port\": \"22\"}\n",
    "net_connect = Netmiko(**device)\n",
    "output = net_connect.send_command(\"show ip interface brief\", use_textfsm=True)\n",
    "net_connect.disconnect()\n",
    "print(type(output))\n",
    "for interface in output:\n",
    " print(interface['intf'])"
   ]
  },
  {
   "cell_type": "code",
   "execution_count": null,
   "id": "e4ad6774",
   "metadata": {},
   "outputs": [],
   "source": []
  }
 ],
 "metadata": {
  "kernelspec": {
   "display_name": "Python 3 (ipykernel)",
   "language": "python",
   "name": "python3"
  },
  "language_info": {
   "codemirror_mode": {
    "name": "ipython",
    "version": 3
   },
   "file_extension": ".py",
   "mimetype": "text/x-python",
   "name": "python",
   "nbconvert_exporter": "python",
   "pygments_lexer": "ipython3",
   "version": "3.8.10"
  }
 },
 "nbformat": 4,
 "nbformat_minor": 5
}
