{
 "cells": [
  {
   "cell_type": "code",
   "execution_count": 1,
   "id": "4666122c",
   "metadata": {},
   "outputs": [
    {
     "name": "stdout",
     "output_type": "stream",
     "text": [
      "configure terminal\n",
      "Enter configuration commands, one per line.  End with CNTL/Z.\n",
      "R5(config)#interface GigabitEthernet3\n",
      "R5(config-if)#description Description set with Netmiko\n",
      "R5(config-if)#end\n",
      "R5#\n"
     ]
    }
   ],
   "source": [
    "from netmiko import Netmiko\n",
    "devices = [{\"device_type\": \"cisco_ios\",\n",
    " \"ip\": \"192.168.1.105\",\n",
    " \"username\": \"student\",\n",
    " \"password\": \"Meilab123\",\n",
    " \"port\": \"22\",}]\n",
    "description = 'Description set with Netmiko'\n",
    "description_config = [\"interface GigabitEthernet3\",\n",
    " f\"description {description}\"]\n",
    " \n",
    "for device in devices:\n",
    " net_connect = Netmiko(**device)\n",
    " output = net_connect.send_config_set(description_config)\n",
    " print(output)\n",
    " net_connect.disconnect()"
   ]
  },
  {
   "cell_type": "code",
   "execution_count": null,
   "id": "80e69103",
   "metadata": {},
   "outputs": [],
   "source": []
  }
 ],
 "metadata": {
  "kernelspec": {
   "display_name": "Python 3 (ipykernel)",
   "language": "python",
   "name": "python3"
  },
  "language_info": {
   "codemirror_mode": {
    "name": "ipython",
    "version": 3
   },
   "file_extension": ".py",
   "mimetype": "text/x-python",
   "name": "python",
   "nbconvert_exporter": "python",
   "pygments_lexer": "ipython3",
   "version": "3.8.10"
  }
 },
 "nbformat": 4,
 "nbformat_minor": 5
}
