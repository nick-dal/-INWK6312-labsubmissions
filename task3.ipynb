{
 "cells": [
  {
   "cell_type": "code",
   "execution_count": 2,
   "id": "dfd0172f",
   "metadata": {},
   "outputs": [
    {
     "name": "stdout",
     "output_type": "stream",
     "text": [
      "----------------------------------------------------------------------------------------------------\n",
      "Interface                      Status         Protocol Description\n",
      "Gi1                            up             up       \n",
      "Gi2                            admin down     down     \n",
      "Gi3                            admin down     down     \n",
      "----------------------------------------------------------------------------------------------------\n",
      "----------------------------------------------------------------------------------------------------\n",
      "Interface                      Status         Protocol Description\n",
      "Gi1                            up             up       \n",
      "Gi2                            admin down     down     \n",
      "Gi3                            admin down     down     \n",
      "----------------------------------------------------------------------------------------------------\n"
     ]
    }
   ],
   "source": [
    "from netmiko import ConnectHandler\n",
    "r1 = {\"device_type\": \"cisco_ios\",\n",
    " \"ip\": \"192.168.1.105\",\n",
    " \"username\": \"student\",\n",
    " \"password\": \"Meilab123\",\n",
    " \"port\": \"22\"}\n",
    "r2 = {\"device_type\": \"cisco_ios\",\n",
    " \"ip\": \"192.168.1.105\",\n",
    " \"username\": \"student\",\n",
    " \"password\": \"Meilab123\",\n",
    " \"port\": \"22\"}\n",
    "for device in (r1, r2):\n",
    " net_connect = ConnectHandler(**device)\n",
    " output = net_connect.send_command(\"show interface description\")\n",
    " net_connect.disconnect()\n",
    " print(\"-\"*100)\n",
    " print(output)\n",
    " print(\"-\"*100)"
   ]
  },
  {
   "cell_type": "code",
   "execution_count": null,
   "id": "4c974056",
   "metadata": {},
   "outputs": [],
   "source": []
  }
 ],
 "metadata": {
  "kernelspec": {
   "display_name": "Python 3 (ipykernel)",
   "language": "python",
   "name": "python3"
  },
  "language_info": {
   "codemirror_mode": {
    "name": "ipython",
    "version": 3
   },
   "file_extension": ".py",
   "mimetype": "text/x-python",
   "name": "python",
   "nbconvert_exporter": "python",
   "pygments_lexer": "ipython3",
   "version": "3.8.10"
  }
 },
 "nbformat": 4,
 "nbformat_minor": 5
}
