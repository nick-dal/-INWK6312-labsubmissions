{
 "cells": [
  {
   "cell_type": "code",
   "execution_count": 1,
   "id": "c52cc2c7",
   "metadata": {},
   "outputs": [
    {
     "name": "stdout",
     "output_type": "stream",
     "text": [
      "R5#\n"
     ]
    }
   ],
   "source": [
    "from netmiko import Netmiko\n",
    "device = {\n",
    " \"device_type\": \"cisco_ios\",\n",
    " \"ip\": \"192.168.1.105\", # R1 Mgmt Interface\n",
    " \"username\": \"student\",\n",
    " \"password\": \"Meilab123\",\n",
    " \"port\": \"22\",\n",
    " }\n",
    "net_connect = Netmiko(**device)\n",
    "print(net_connect.find_prompt())\n"
   ]
  },
  {
   "cell_type": "code",
   "execution_count": null,
   "id": "4ef5a5f9",
   "metadata": {},
   "outputs": [],
   "source": []
  }
 ],
 "metadata": {
  "kernelspec": {
   "display_name": "Python 3 (ipykernel)",
   "language": "python",
   "name": "python3"
  },
  "language_info": {
   "codemirror_mode": {
    "name": "ipython",
    "version": 3
   },
   "file_extension": ".py",
   "mimetype": "text/x-python",
   "name": "python",
   "nbconvert_exporter": "python",
   "pygments_lexer": "ipython3",
   "version": "3.8.10"
  }
 },
 "nbformat": 4,
 "nbformat_minor": 5
}
